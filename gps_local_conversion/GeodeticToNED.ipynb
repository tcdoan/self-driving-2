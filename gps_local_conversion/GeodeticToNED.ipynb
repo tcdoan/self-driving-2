{
 "cells": [
  {
   "cell_type": "markdown",
   "metadata": {},
   "source": [
    "### Geodetic to NED  "
   ]
  },
  {
   "cell_type": "code",
   "execution_count": 1,
   "metadata": {},
   "outputs": [],
   "source": [
    "# First import the utm and numpy packages\n",
    "import utm\n",
    "import numpy"
   ]
  },
  {
   "cell_type": "markdown",
   "metadata": {},
   "source": [
    "To convert a GPS position (_longitude_, _latitude_, _altitude_) to a local position (_north_, _east_, _down_) you need to define a global home position as the origin of your NED coordinate frame. In general this might be the position your vehicle is in when the motors are armed, or some other home base position. You first task is to define a function to convert from global position to a local position using the `utm`. To do this fill in the TODO's below!"
   ]
  },
  {
   "cell_type": "code",
   "execution_count": 8,
   "metadata": {},
   "outputs": [],
   "source": [
    "def global_to_local(global_position, global_home):\n",
    "    \n",
    "    # TODO: Get easting and northing of global_home\n",
    "    (home_easting, home_northing, _, _) = utm.from_latlon(global_home[1], global_home[0])\n",
    "    \n",
    "    # TODO: Get easting and northing of global_position\n",
    "    (pos_easting, pos_northing, _, _) = utm.from_latlon(global_position[1], global_position[0])\n",
    "    \n",
    "    # TODO: Create local_position from global and home positions                                     \n",
    "    local_position = numpy.array([pos_northing-home_northing, pos_easting-home_easting, global_home[2]-global_position[2]])\n",
    "    \n",
    "    return local_position"
   ]
  },
  {
   "cell_type": "markdown",
   "metadata": {},
   "source": [
    "### NED to Geodetic\n",
    "Now try converting a local position (_north_, _east_, _down_) relative to the home position to a global position (_long_, _lat_, _up_)."
   ]
  },
  {
   "cell_type": "code",
   "execution_count": 6,
   "metadata": {},
   "outputs": [],
   "source": [
    "def local_to_global(local_position, global_home):\n",
    "    \n",
    "    # TODO: get easting, northing, zone letter and number of global_home\n",
    "    (home_easting, home_northing, home_zone_num, home_zone_letter) = utm.from_latlon(global_home[1], global_home[0])\n",
    "    \n",
    "    # TODO: get (lat, lon) from local_position and converted global_home\n",
    "    (lat, lon) = utm.to_latlon(local_position[0] + home_northing, local_position[1] + home_easting,  home_zone_num, home_zone_letter)\n",
    "    \n",
    "    # TODO: Create global_position of (lat, lon, alt)\n",
    "    global_position = numpy.array([lon, lat, global_home[2]-local_position[2]])\n",
    "    \n",
    "    return global_position"
   ]
  },
  {
   "cell_type": "markdown",
   "metadata": {
    "collapsed": true
   },
   "source": [
    "As an example, we will use two sets of global coordinates. One **```geodetic_home_coordinates```** serving as a local origin for NED frame and the second **```geodetic_current_coordinates```** which we will be expressed in NED coordinates relative to the first one. "
   ]
  },
  {
   "cell_type": "code",
   "execution_count": 9,
   "metadata": {},
   "outputs": [
    {
     "name": "stdout",
     "output_type": "stream",
     "text": [
      "[-764.96 2571.59  -10.  ]\n"
     ]
    }
   ],
   "source": [
    "numpy.set_printoptions(precision=2)\n",
    "\n",
    "geodetic_current_coordinates = [-122.079465, 37.393037, 30]\n",
    "geodetic_home_coordinates = [-122.108432, 37.400154, 20]\n",
    "\n",
    "local_coordinates_NED = global_to_local(geodetic_current_coordinates, geodetic_home_coordinates)\n",
    "\n",
    "print(local_coordinates_NED)\n",
    "# Should print [ -764.96  2571.59   -10.  ]"
   ]
  },
  {
   "cell_type": "markdown",
   "metadata": {},
   "source": [
    "In this example, we will do the reverse transform by obtaining the global coordinated by knowing NED coordinates relative to the other global coordinates. "
   ]
  },
  {
   "cell_type": "code",
   "execution_count": 7,
   "metadata": {},
   "outputs": [
    {
     "ename": "OutOfRangeError",
     "evalue": "easting out of range (must be between 100.000 m and 999.999 m)",
     "output_type": "error",
     "traceback": [
      "\u001b[0;31m---------------------------------------------------------------------------\u001b[0m",
      "\u001b[0;31mOutOfRangeError\u001b[0m                           Traceback (most recent call last)",
      "\u001b[0;32m<ipython-input-7-223483af1db0>\u001b[0m in \u001b[0;36m<module>\u001b[0;34m\u001b[0m\n\u001b[1;32m      3\u001b[0m \u001b[0;34m\u001b[0m\u001b[0m\n\u001b[1;32m      4\u001b[0m \u001b[0;31m# convert back to global coordinates\u001b[0m\u001b[0;34m\u001b[0m\u001b[0;34m\u001b[0m\u001b[0m\n\u001b[0;32m----> 5\u001b[0;31m \u001b[0mgeodetic_current_coordinates\u001b[0m \u001b[0;34m=\u001b[0m \u001b[0mlocal_to_global\u001b[0m\u001b[0;34m(\u001b[0m\u001b[0mNED_coordinates\u001b[0m\u001b[0;34m,\u001b[0m \u001b[0mgeodetic_home_coordinates\u001b[0m\u001b[0;34m)\u001b[0m\u001b[0;34m\u001b[0m\u001b[0m\n\u001b[0m\u001b[1;32m      6\u001b[0m \u001b[0;34m\u001b[0m\u001b[0m\n\u001b[1;32m      7\u001b[0m \u001b[0mprint\u001b[0m\u001b[0;34m(\u001b[0m\u001b[0mgeodetic_current_coordinates\u001b[0m\u001b[0;34m)\u001b[0m\u001b[0;34m\u001b[0m\u001b[0m\n",
      "\u001b[0;32m<ipython-input-6-2fd6a7d15272>\u001b[0m in \u001b[0;36mlocal_to_global\u001b[0;34m(local_position, global_home)\u001b[0m\n\u001b[1;32m      5\u001b[0m \u001b[0;34m\u001b[0m\u001b[0m\n\u001b[1;32m      6\u001b[0m     \u001b[0;31m# TODO: get (lat, lon) from local_position and converted global_home\u001b[0m\u001b[0;34m\u001b[0m\u001b[0;34m\u001b[0m\u001b[0m\n\u001b[0;32m----> 7\u001b[0;31m     \u001b[0;34m(\u001b[0m\u001b[0mlat\u001b[0m\u001b[0;34m,\u001b[0m \u001b[0mlon\u001b[0m\u001b[0;34m)\u001b[0m \u001b[0;34m=\u001b[0m \u001b[0mutm\u001b[0m\u001b[0;34m.\u001b[0m\u001b[0mto_latlon\u001b[0m\u001b[0;34m(\u001b[0m\u001b[0mlocal_position\u001b[0m\u001b[0;34m[\u001b[0m\u001b[0;36m0\u001b[0m\u001b[0;34m]\u001b[0m \u001b[0;34m+\u001b[0m \u001b[0mhome_northing\u001b[0m\u001b[0;34m,\u001b[0m \u001b[0mlocal_position\u001b[0m\u001b[0;34m[\u001b[0m\u001b[0;36m1\u001b[0m\u001b[0;34m]\u001b[0m \u001b[0;34m+\u001b[0m \u001b[0mhome_easting\u001b[0m\u001b[0;34m,\u001b[0m  \u001b[0mhome_zone_num\u001b[0m\u001b[0;34m,\u001b[0m \u001b[0mhome_zone_letter\u001b[0m\u001b[0;34m)\u001b[0m\u001b[0;34m\u001b[0m\u001b[0m\n\u001b[0m\u001b[1;32m      8\u001b[0m \u001b[0;34m\u001b[0m\u001b[0m\n\u001b[1;32m      9\u001b[0m     \u001b[0;31m# TODO: Create global_position of (lat, lon, alt)\u001b[0m\u001b[0;34m\u001b[0m\u001b[0;34m\u001b[0m\u001b[0m\n",
      "\u001b[0;32m~/anaconda3/envs/fcnd/lib/python3.6/site-packages/utm/conversion.py\u001b[0m in \u001b[0;36mto_latlon\u001b[0;34m(easting, northing, zone_number, zone_letter, northern)\u001b[0m\n\u001b[1;32m     47\u001b[0m \u001b[0;34m\u001b[0m\u001b[0m\n\u001b[1;32m     48\u001b[0m     \u001b[0;32mif\u001b[0m \u001b[0;32mnot\u001b[0m \u001b[0;36m100000\u001b[0m \u001b[0;34m<=\u001b[0m \u001b[0measting\u001b[0m \u001b[0;34m<\u001b[0m \u001b[0;36m1000000\u001b[0m\u001b[0;34m:\u001b[0m\u001b[0;34m\u001b[0m\u001b[0m\n\u001b[0;32m---> 49\u001b[0;31m         \u001b[0;32mraise\u001b[0m \u001b[0mOutOfRangeError\u001b[0m\u001b[0;34m(\u001b[0m\u001b[0;34m'easting out of range (must be between 100.000 m and 999.999 m)'\u001b[0m\u001b[0;34m)\u001b[0m\u001b[0;34m\u001b[0m\u001b[0m\n\u001b[0m\u001b[1;32m     50\u001b[0m     \u001b[0;32mif\u001b[0m \u001b[0;32mnot\u001b[0m \u001b[0;36m0\u001b[0m \u001b[0;34m<=\u001b[0m \u001b[0mnorthing\u001b[0m \u001b[0;34m<=\u001b[0m \u001b[0;36m10000000\u001b[0m\u001b[0;34m:\u001b[0m\u001b[0;34m\u001b[0m\u001b[0m\n\u001b[1;32m     51\u001b[0m         \u001b[0;32mraise\u001b[0m \u001b[0mOutOfRangeError\u001b[0m\u001b[0;34m(\u001b[0m\u001b[0;34m'northing out of range (must be between 0 m and 10.000.000 m)'\u001b[0m\u001b[0;34m)\u001b[0m\u001b[0;34m\u001b[0m\u001b[0m\n",
      "\u001b[0;31mOutOfRangeError\u001b[0m: easting out of range (must be between 100.000 m and 999.999 m)"
     ]
    }
   ],
   "source": [
    "numpy.set_printoptions(precision=6)\n",
    "NED_coordinates =[25.21, 128.07, -30.]\n",
    "\n",
    "# convert back to global coordinates\n",
    "geodetic_current_coordinates = local_to_global(NED_coordinates, geodetic_home_coordinates)\n",
    "\n",
    "print(geodetic_current_coordinates)\n",
    "# Should print [-122.106982   37.40037    50.      ]"
   ]
  },
  {
   "cell_type": "markdown",
   "metadata": {
    "collapsed": true
   },
   "source": [
    "[solution](/notebooks/Geodetic%20to%20NED_solution.ipynb)"
   ]
  },
  {
   "cell_type": "code",
   "execution_count": null,
   "metadata": {},
   "outputs": [],
   "source": []
  }
 ],
 "metadata": {
  "kernelspec": {
   "display_name": "Python 3",
   "language": "python",
   "name": "python3"
  },
  "language_info": {
   "codemirror_mode": {
    "name": "ipython",
    "version": 3
   },
   "file_extension": ".py",
   "mimetype": "text/x-python",
   "name": "python",
   "nbconvert_exporter": "python",
   "pygments_lexer": "ipython3",
   "version": "3.6.3"
  }
 },
 "nbformat": 4,
 "nbformat_minor": 2
}
