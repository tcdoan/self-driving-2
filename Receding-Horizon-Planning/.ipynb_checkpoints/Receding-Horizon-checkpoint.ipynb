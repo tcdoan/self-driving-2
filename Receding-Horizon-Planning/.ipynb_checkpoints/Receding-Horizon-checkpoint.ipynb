{
 "cells": [
  {
   "cell_type": "markdown",
   "metadata": {},
   "source": [
    "# Receding Horizon\n",
    "\n",
    "This notebook is your playground to pull together techniques from the previous lessons! A solution here can be built from previous solutions (more or less) so we will offer no solution notebook this time.\n",
    "\n",
    "Here's a suggested approach:\n",
    "\n",
    "1. Load the colliders data\n",
    "2. Discretize your search space into a grid or graph\n",
    "3. Define a start and goal location\n",
    "4. Find a coarse 2D plan from start to goal\n",
    "5. Choose a location along that plan and discretize\n",
    "   a local volume around that location (for example, you\n",
    "   might try a 40x40 m area that is 10 m high discretized\n",
    "   into 1m^3 voxels)\n",
    "6. Define your goal in the local volume to a a node or voxel\n",
    "   at the edge of the volume in the direction of the next\n",
    "   waypoint in your coarse global plan.\n",
    "7. Plan a path through your 3D grid or graph to that node\n",
    "   or voxel at the edge of the local volume.  \n",
    "\n",
    "We'll import some of the routines from previous exercises that you might find useful here.  "
   ]
  },
  {
   "cell_type": "code",
   "execution_count": 1,
   "metadata": {},
   "outputs": [],
   "source": [
    "import numpy as np\n",
    "import matplotlib.pyplot as plt\n",
    "\n",
    "# Grid creation routine\n",
    "from grid import create_grid\n",
    "\n",
    "# Voxel map creation routine\n",
    "from voxmap import create_voxmap\n",
    "\n",
    "# 2D A* planning routine (can you convert to 3D??)\n",
    "from planning import a_star\n",
    "\n",
    "# Random sampling routine\n",
    "from sampling import Sampler\n",
    "\n",
    "%matplotlib inline"
   ]
  },
  {
   "cell_type": "code",
   "execution_count": 2,
   "metadata": {},
   "outputs": [],
   "source": [
    "plt.rcParams['figure.figsize'] = 14, 14"
   ]
  },
  {
   "cell_type": "markdown",
   "metadata": {},
   "source": [
    "## Load Data"
   ]
  },
  {
   "cell_type": "code",
   "execution_count": 3,
   "metadata": {},
   "outputs": [
    {
     "name": "stdout",
     "output_type": "stream",
     "text": [
      "[[-310.2389   -439.2315     85.5         5.          5.         85.5     ]\n",
      " [-300.2389   -439.2315     85.5         5.          5.         85.5     ]\n",
      " [-290.2389   -439.2315     85.5         5.          5.         85.5     ]\n",
      " ...\n",
      " [ 257.8061    425.1645      1.75852     1.292725    1.292725    1.944791]\n",
      " [ 293.9967    368.3391      3.557666    1.129456    1.129456    3.667319]\n",
      " [ 281.5162    354.4156      4.999351    1.053772    1.053772    4.950246]]\n"
     ]
    }
   ],
   "source": [
    "# This is the same obstacle data from the previous lesson.\n",
    "data = np.loadtxt('colliders.csv', delimiter=',', dtype='Float64', skiprows=2)\n",
    "print(data)"
   ]
  },
  {
   "cell_type": "code",
   "execution_count": 4,
   "metadata": {},
   "outputs": [],
   "source": [
    "flight_altitude = 3\n",
    "safety_distance = 3\n",
    "grid = create_grid(data, flight_altitude, safety_distance)"
   ]
  },
  {
   "cell_type": "code",
   "execution_count": 5,
   "metadata": {},
   "outputs": [
    {
     "data": {
      "image/png": "[encoded data removed]",
      "text/plain": [
       "<matplotlib.figure.Figure at 0x7f20fcde0550>"
      ]
     },
     "metadata": {
      "needs_background": "light"
     },
     "output_type": "display_data"
    }
   ],
   "source": [
    "fig = plt.figure()\n",
    "\n",
    "plt.imshow(grid, cmap='Greys', origin='lower', alpha=0.2)\n",
    "\n",
    "plt.xlabel('NORTH')\n",
    "plt.ylabel('EAST')\n",
    "\n",
    "plt.show()"
   ]
  },
  {
   "cell_type": "code",
   "execution_count": null,
   "metadata": {
    "collapsed": true
   },
   "outputs": [],
   "source": []
  }
 ],
 "metadata": {
  "kernelspec": {
   "display_name": "Python 3",
   "language": "python",
   "name": "python3"
  },
  "language_info": {
   "codemirror_mode": {
    "name": "ipython",
    "version": 3
   },
   "file_extension": ".py",
   "mimetype": "text/x-python",
   "name": "python",
   "nbconvert_exporter": "python",
   "pygments_lexer": "ipython3",
   "version": "3.6.3"
  }
 },
 "nbformat": 4,
 "nbformat_minor": 2
}
