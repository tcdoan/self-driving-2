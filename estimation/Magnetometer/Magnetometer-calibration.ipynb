{
 "cells": [
  {
   "cell_type": "markdown",
   "metadata": {},
   "source": [
    "# Magnetometer Calibration \n",
    "\n",
    "Aside from a gyroscope, yaw ($\\psi$) can be determined using a magnetometer. We saw that gyroscope measurements produced an ever-increasing difference between the true and estimated values over time. To minimize the drift error, gyroscope measurements can be used over short time intervals and the magnetometer over long time intervals. \n",
    "\n",
    "The yaw angle can be calculated relative to the magnetic pole, and then adding the correction value produces the yaw relative to the pole. In this exercise, we will calculate yaw relative to the magnetic pole and assume that this is sufficient to execute the flight. After initialization of the magnetometer we do not know the true magnetic north. However, we can measure the magnetic strength along the full circle, in addition to given measurements the orientation of the magnetic pole can be accurately estimated. "
   ]
  },
  {
   "cell_type": "code",
   "execution_count": null,
   "metadata": {
    "collapsed": true
   },
   "outputs": [],
   "source": [
    "%matplotlib inline \n",
    "%config InlineBackend.figure_format = 'retina'\n",
    "\n",
    "import numpy as np \n",
    "import math\n",
    "from math import sin, cos, tan\n",
    "import matplotlib.pyplot as plt\n",
    "import matplotlib.pylab as pylab\n",
    "from mpl_toolkits.mplot3d import Axes3D\n",
    "import jdc\n",
    "import random\n",
    "from magnetic_field_measurements import measured_field\n",
    "\n",
    "pylab.rcParams['figure.figsize'] = 10, 10"
   ]
  },
  {
   "cell_type": "markdown",
   "metadata": {},
   "source": [
    "First we load and plot the measured magnetic field.\n",
    "\n",
    "* `orientation` contains the $x$ and $y$ projections on the unit vector relative to the assumed zero yaw from which we started measurement. \n",
    "* `field_strength` contains the magnetic field strength projections on $x$ and $y$ axis. "
   ]
  },
  {
   "cell_type": "code",
   "execution_count": null,
   "metadata": {},
   "outputs": [],
   "source": [
    "orientation, field_strength = measured_field()\n",
    "\n",
    "plt.scatter(field_strength[0,:], field_strength[1,:])\n",
    "plt.axis('equal')\n",
    "plt.grid()\n",
    "plt.title('Magnetic field measurement').set_fontsize(20)\n",
    "plt.xlabel('$m_x$').set_fontsize(20)\n",
    "plt.ylabel('$m_y$').set_fontsize(20)\n",
    "plt.xticks(fontsize = 14)\n",
    "plt.yticks(fontsize = 14)\n",
    "plt.show()"
   ]
  },
  {
   "cell_type": "markdown",
   "metadata": {},
   "source": [
    "The magnetic field can be models as \n",
    "\n",
    "$$\n",
    "\\tilde{m} = b +(I + M) m + \\eta\n",
    "$$\n",
    "\n",
    "where $m$ is an orientation variable which contains the projections of the unit vector relative to the assumed zero yaw direction relative to which we measured the magnetic strength $\\tilde{m}$. \n",
    "\n",
    "In the similar fashion as in the previous exercise, we'll use least squares to calculate the $b$ and $(I+M)$ coefficients (you can use [np.linalg.lstsq](https://docs.scipy.org/doc/numpy/reference/generated/numpy.linalg.lstsq.html) to calculate Least Squares)."
   ]
  },
  {
   "cell_type": "code",
   "execution_count": null,
   "metadata": {
    "collapsed": true
   },
   "outputs": [],
   "source": [
    "attitude = np.vstack([orientation, np.ones(orientation.shape[1])])\n",
    "transformation_matrix = np.zeros((2,3))\n",
    "for i in range(2):\n",
    "    # TODO: calculate the transformation_matrix containing bias and scailing and cross-correlation elements \n",
    "    transformation_matrix[i,:] = None"
   ]
  },
  {
   "cell_type": "markdown",
   "metadata": {},
   "source": [
    "After obtaining the transform coefficients, we can transform the measured magnetic field into the normalized field strength relative to the already mentioned assumed zero direction. \n",
    "\n",
    "$$\n",
    "(I+M)^{-1}(\\tilde{m}-b) +\\eta=m \n",
    "$$"
   ]
  },
  {
   "cell_type": "code",
   "execution_count": null,
   "metadata": {
    "collapsed": true
   },
   "outputs": [],
   "source": [
    "# TODO: Normalize the measured magnetic field. \n",
    "m = None"
   ]
  },
  {
   "cell_type": "markdown",
   "metadata": {},
   "source": [
    "Plotting original measurements with the calibrated ones."
   ]
  },
  {
   "cell_type": "code",
   "execution_count": null,
   "metadata": {},
   "outputs": [],
   "source": [
    "plt.scatter(field_strength[0,:], field_strength[1,:])\n",
    "plt.scatter(m[0,:], m[1,:])\n",
    "plt.legend(['Measured','Calibrated'],fontsize = 14)\n",
    "plt.axis('equal')\n",
    "plt.grid()\n",
    "plt.title('Magnetic field measurement').set_fontsize(20)\n",
    "plt.xlabel('$m_x$').set_fontsize(20)\n",
    "plt.ylabel('$m_y$').set_fontsize(20)\n",
    "plt.xticks(fontsize = 14)\n",
    "plt.yticks(fontsize = 14)\n",
    "plt.show()\n"
   ]
  },
  {
   "cell_type": "markdown",
   "metadata": {},
   "source": [
    "Ellips in two-dimensional space can be represented as:\n",
    "\n",
    "$$\n",
    "\\begin{bmatrix} x \\\\ y \\end{bmatrix} = \\begin{bmatrix} b_x\\\\ b_y \\end{bmatrix} + \\begin{bmatrix} \\cos \\Delta \\psi &  -\\sin  \\Delta \\psi \\\\ \\sin \\Delta \\psi & \\cos \\Delta \\psi \\end{bmatrix} \\begin{bmatrix} s_1 \\cos \\psi \\\\ s_2 \\sin \\psi\\end{bmatrix}\n",
    "$$\n",
    "\n",
    "where $s_1$ and $s_2$ are the scaling factors and $\\Delta \\psi$ is the rotation of the major axis. We can employ the given representation and obtain the yaw angle between our assumed zero direction and the actual magnetic pole heading. \n",
    "\n",
    "We can then calculate $\\Delta \\psi$ by dividing proper `transformation_matrix` elements on each other."
   ]
  },
  {
   "cell_type": "code",
   "execution_count": null,
   "metadata": {},
   "outputs": [],
   "source": [
    "delta_psi_1 = np.arctan2(transformation_matrix[1,0],transformation_matrix[0,0])/np.pi*180\n",
    "print('First estimation of the relative yaw angle is ',delta_psi_1)\n",
    "\n",
    "delta_psi_2 = np.arctan2(-transformation_matrix[0,1],transformation_matrix[1,1])/np.pi*180\n",
    "print('Second estimation of the relative yaw angle is ',delta_psi_2)\n",
    "estimated_delta_psi = (delta_psi_1+delta_psi_2)/2\n",
    "print('Average relative yaw angle is= ',estimated_delta_psi)"
   ]
  },
  {
   "cell_type": "markdown",
   "metadata": {},
   "source": [
    "\n",
    "For a randomly selected magnetic field measurement, find the yaw angle relative to the magnetic pole.\n",
    "\n",
    "First, you will normalize the measurement relative to the assumed zero heading and then add the difference between it and the true magnetic pole heading. \n",
    "\n",
    "The yaw for a normalized magnetic field can be calculated as \n",
    "\n",
    "$$\n",
    "\\psi = arctan2(-m_y, m_x).\n",
    "$$"
   ]
  },
  {
   "cell_type": "code",
   "execution_count": null,
   "metadata": {},
   "outputs": [],
   "source": [
    "sample_number = int(np.random.uniform(0,field_strength.shape[1]))\n",
    "\n",
    "sample_measurement = field_strength[:,sample_number]\n",
    "\n",
    "\n",
    "normalized_measurement = np.matmul(np.linalg.inv(transformation_matrix[:, :2]),\n",
    "             (np.reshape(sample_measurement,(2,1)) - np.reshape(transformation_matrix[:, -1],(2, 1))))\n",
    "\n",
    "\n",
    "# TODO: Calculate the yaw angle relative to the pre-assumed zero direction and add the correction factor \n",
    "yaw_relative_to_introduced_zero = None\n",
    "yaw_relative_to_magnetic_north= None\n",
    "\n",
    "print('Yaw relative to the pre-assumed zero  =',yaw_relative_to_introduced_zero)\n",
    "print('Yaw relative to the magnetic north = ',yaw_relative_to_magnetic_north)\n",
    "\n",
    "\n",
    "plt.scatter(field_strength[0,:], field_strength[1,:])\n",
    "plt.scatter(m[0,:], m[1,:])\n",
    "plt.scatter(sample_measurement[0], sample_measurement[1],s=300,color='red',marker = 'o')\n",
    "plt.scatter(normalized_measurement[0], normalized_measurement[1],s=300,color='green',marker = 'o')\n",
    "plt.legend(['Measured','Calibrated','Sample measurement','Normalized sample'],fontsize = 14)\n",
    "plt.title('Magnetic field measurement').set_fontsize(20)\n",
    "plt.xlabel('$m_x$').set_fontsize(20)\n",
    "plt.ylabel('$m_y$').set_fontsize(20)\n",
    "plt.xticks(fontsize = 14)\n",
    "plt.yticks(fontsize = 14)\n",
    "plt.axis('equal')\n",
    "plt.grid()\n",
    "plt.show()"
   ]
  }
 ],
 "metadata": {
  "kernelspec": {
   "display_name": "Python 3",
   "language": "python",
   "name": "python3"
  },
  "language_info": {
   "codemirror_mode": {
    "name": "ipython",
    "version": 3
   },
   "file_extension": ".py",
   "mimetype": "text/x-python",
   "name": "python",
   "nbconvert_exporter": "python",
   "pygments_lexer": "ipython3",
   "version": "3.6.3"
  }
 },
 "nbformat": 4,
 "nbformat_minor": 2
}