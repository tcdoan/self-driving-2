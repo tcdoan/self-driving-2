{
 "cells": [
  {
   "cell_type": "markdown",
   "metadata": {},
   "source": [
    "<img src=\"Drone2.png\" width=\"400\" height=\"400\">\n",
    "\n",
    "For the rest of the lesson you will be working with a drone that is able to move in two dimensions. \n",
    "\n",
    "This drone has two propellers each located a distance $l$ from the center of mass. In this exercise, we will ignore the yaw-inducing reactive moment from each propeller.\n",
    "\n",
    "The state can be described by the vector: \n",
    "\n",
    "$$X = [z , y, \\phi, \\dot{z}, \\dot{y},\\dot{\\phi}]$$\n",
    "\n",
    "We will have to track the drone's position in 2 dimensions and its rotation about the $x$ axis, which is directed into the plane. "
   ]
  },
  {
   "cell_type": "code",
   "execution_count": null,
   "metadata": {},
   "outputs": [],
   "source": [
    "%matplotlib inline \n",
    "%config InlineBackend.figure_format = 'retina'\n",
    "\n",
    "import numpy as np \n",
    "import math\n",
    "import matplotlib.pyplot as plt\n",
    "import matplotlib.pylab as pylab\n",
    "import jdc\n",
    "from ExerciseAnswers import Answers\n",
    "\n",
    "pylab.rcParams['figure.figsize'] = 10, 10"
   ]
  },
  {
   "cell_type": "code",
   "execution_count": null,
   "metadata": {},
   "outputs": [],
   "source": [
    "class Drone2D:\n",
    "    \n",
    "    def __init__(self,\n",
    "                 k_f = 0.1, # value of the thrust coefficient\n",
    "                 i = 0.1,   # moment of inertia around the x-axis\n",
    "                 m = 1.0,   # mass of the vehicle \n",
    "                 l = 0.15,  # distance between the center of \n",
    "                            #   mass and the propeller axis\n",
    "                ):\n",
    "        \n",
    "        self.k_f = k_f\n",
    "        self.i = i\n",
    "        self.l = l \n",
    "        self.m = m\n",
    "        \n",
    "        self.omega_1 = 0.0\n",
    "        self.omega_2 = 0.0\n",
    "        self.g = 9.81\n",
    "        \n",
    "        # z, y, phi, z_dot, y_dot, phi_dot\n",
    "        self.X = np.array([0.0,0.0,0.0,0.0,0.0,0.0])\n",
    "        \n",
    "    def advance_state_uncontrolled(self,dt):\n",
    "        \"\"\"Advances the state of the drone by dt seconds. \n",
    "        Note that this method assumes zero rotational speed \n",
    "        for both propellers.\"\"\"\n",
    "        \n",
    "        X_dot = np.array([\n",
    "            self.X[3], \n",
    "            self.X[4], \n",
    "            self.X[5], \n",
    "            self.g, \n",
    "            0.0, \n",
    "            0.0])\n",
    "        # Change in state will be \n",
    "        self.X = self.X + X_dot * dt\n",
    "        return self.X"
   ]
  },
  {
   "cell_type": "markdown",
   "metadata": {},
   "source": [
    "### Visual Code Check\n",
    "\n",
    "If your code is working correctly then running the cell below should produce a graph that looks like this\n",
    "\n",
    "![](https://s3.amazonaws.com/video.udacity-data.com/topher/2018/March/5a9dbf94_yz-graph/yz-graph.png)"
   ]
  },
  {
   "cell_type": "code",
   "execution_count": null,
   "metadata": {},
   "outputs": [],
   "source": [
    "drone = Drone2D()\n",
    "Z_history = []\n",
    "Y_history = []\n",
    "dt = 0.1\n",
    "\n",
    "# add a slight initial horizontal velocity\n",
    "drone.X[4] = 1.0\n",
    "\n",
    "for _ in range(100):\n",
    "    Z_history.append(drone.X[0])\n",
    "    Y_history.append(drone.X[1])\n",
    "    \n",
    "    # call the uncontrolled (free fall) advance state function\n",
    "    drone.advance_state_uncontrolled(dt)\n",
    "    \n",
    "plt.plot(Y_history, Z_history )\n",
    "\n",
    "# invert the vertical axis so down is positive \n",
    "plt.gca().invert_yaxis()\n",
    "plt.xlabel(\"Horizontal Position (y)\")\n",
    "plt.ylabel(\"Vertical Position (z)\")\n",
    "plt.show()"
   ]
  }
 ],
 "metadata": {
  "kernelspec": {
   "display_name": "Python 3",
   "language": "python",
   "name": "python3"
  },
  "language_info": {
   "codemirror_mode": {
    "name": "ipython",
    "version": 3
   },
   "file_extension": ".py",
   "mimetype": "text/x-python",
   "name": "python",
   "nbconvert_exporter": "python",
   "pygments_lexer": "ipython3",
   "version": "3.6.3"
  }
 },
 "nbformat": 4,
 "nbformat_minor": 2
}
