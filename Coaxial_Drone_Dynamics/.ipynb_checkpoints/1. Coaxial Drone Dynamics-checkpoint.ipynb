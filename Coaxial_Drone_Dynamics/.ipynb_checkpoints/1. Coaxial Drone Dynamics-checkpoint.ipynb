{
 "cells": [
  {
   "cell_type": "markdown",
   "metadata": {},
   "source": [
    "## Co-axial drone dynamics\n",
    "\n",
    "<img src=\"Drone1.png\" width=\"300\">\n",
    "\n",
    "In this exercise, you will populate the ```CoaxialCopter``` class with three methods. These functions will calculate vertical acceleration $\\ddot{z}$, angular acceleration $\\ddot{\\psi}$ along the $z$ axis and the angular velocities $\\omega_1$ and $\\omega_2$ of the propellers required to achieve any desired  $\\ddot{z}$ and $\\ddot{\\psi}$. \n",
    "\n",
    "We assume that drone only can travel and rotate along the vertical $z$ axis. \n",
    "\n",
    "Remember, the positive $z$ axis points downwards. \n",
    "\n",
    "Also notice that the first propeller rotates clockwise, while the second propeller rotates counterclockwise.\n",
    "\n",
    "**Reminder**: The second propeller rotates counterclockwise thus the angular velocity needs to be positive, while angular velocity of the first propeller needs to be negative as it rotates clockwise.\n"
   ]
  },
  {
   "cell_type": "code",
   "execution_count": 2,
   "metadata": {},
   "outputs": [
    {
     "ename": "ModuleNotFoundError",
     "evalue": "No module named 'jdc'",
     "output_type": "error",
     "traceback": [
      "\u001b[0;31m---------------------------------------------------------------------------\u001b[0m",
      "\u001b[0;31mModuleNotFoundError\u001b[0m                       Traceback (most recent call last)",
      "\u001b[0;32m<ipython-input-2-814393d8294c>\u001b[0m in \u001b[0;36m<module>\u001b[0;34m\u001b[0m\n\u001b[1;32m      6\u001b[0m \u001b[0;32mimport\u001b[0m \u001b[0mmatplotlib\u001b[0m\u001b[0;34m.\u001b[0m\u001b[0mpyplot\u001b[0m \u001b[0;32mas\u001b[0m \u001b[0mplt\u001b[0m\u001b[0;34m\u001b[0m\u001b[0m\n\u001b[1;32m      7\u001b[0m \u001b[0;32mimport\u001b[0m \u001b[0mmatplotlib\u001b[0m\u001b[0;34m.\u001b[0m\u001b[0mpylab\u001b[0m \u001b[0;32mas\u001b[0m \u001b[0mpylab\u001b[0m\u001b[0;34m\u001b[0m\u001b[0m\n\u001b[0;32m----> 8\u001b[0;31m \u001b[0;32mimport\u001b[0m \u001b[0mjdc\u001b[0m\u001b[0;34m\u001b[0m\u001b[0m\n\u001b[0m\u001b[1;32m      9\u001b[0m \u001b[0;32mfrom\u001b[0m \u001b[0mExerciseAnswers\u001b[0m \u001b[0;32mimport\u001b[0m \u001b[0mAnswers\u001b[0m\u001b[0;34m\u001b[0m\u001b[0m\n\u001b[1;32m     10\u001b[0m \u001b[0mpylab\u001b[0m\u001b[0;34m.\u001b[0m\u001b[0mrcParams\u001b[0m\u001b[0;34m[\u001b[0m\u001b[0;34m'figure.figsize'\u001b[0m\u001b[0;34m]\u001b[0m \u001b[0;34m=\u001b[0m \u001b[0;36m10\u001b[0m\u001b[0;34m,\u001b[0m \u001b[0;36m10\u001b[0m\u001b[0;34m\u001b[0m\u001b[0m\n",
      "\u001b[0;31mModuleNotFoundError\u001b[0m: No module named 'jdc'"
     ]
    }
   ],
   "source": [
    "%matplotlib inline \n",
    "%config InlineBackend.figure_format = 'retina'\n",
    "\n",
    "import numpy as np \n",
    "import math\n",
    "import matplotlib.pyplot as plt\n",
    "import matplotlib.pylab as pylab\n",
    "import jdc\n",
    "from ExerciseAnswers import Answers\n",
    "pylab.rcParams['figure.figsize'] = 10, 10"
   ]
  },
  {
   "cell_type": "markdown",
   "metadata": {},
   "source": [
    "#### Helpful Equations\n",
    "\n",
    "$$F_z = m \\ddot{z}$$\n",
    "\n",
    "$$M_z = I_z \\ddot{\\psi}$$\n",
    "\n",
    "$$ \\ddot{z} = g- \\frac{k_f}{m}\\left( \\omega_1^2 +\\omega_2^2 \\right)   \\\\\n",
    "   \\ddot{\\psi} =\\frac{k_m}{I_z} (-\\omega_1^2 + \\omega_2^2 )  $$\n",
    "   \n",
    "_Hint_:\n",
    "From those equations you can derive the following:\n",
    "\n",
    "$$ \\omega_1^2 = \\frac{m}{k_f} (g-\\ddot{z}) - \\omega_2^2 $$\n",
    "\n",
    "$$ \\omega_2^2 = \\frac{I_z}{k_m} \\ddot{\\psi} + \\omega_1^2 $$\n",
    "\n",
    "and replacing the omega_squared variables in the two equations leads to:\n",
    "\n",
    "$$ \\omega_1^2 =\\frac{1}{2}\\frac{m}{k_f} (g-\\ddot{z}) - \\frac{1}{2}\\frac{I_z}{k_m} \\ddot{\\psi} $$\n",
    "\n",
    "$$ \\omega_2^2 =\\frac{1}{2}\\frac{m}{k_f} (g-\\ddot{z}) + \\frac{1}{2}\\frac{I_z}{k_m} \\ddot{\\psi} $$\n",
    "\n",
    "$$ $$\n",
    "$$ $$\n",
    "_Note_: In the notebook we will refer to \n",
    "$ \\ddot{\\psi} $ as angular_acceleration and \n",
    "$\\ddot{z}$ as linear_acceleration"
   ]
  },
  {
   "cell_type": "code",
   "execution_count": null,
   "metadata": {},
   "outputs": [],
   "source": [
    "class CoaxialCopter:\n",
    "    \n",
    "    def __init__(self, \n",
    "                 k_f = 0.1, # value of the thrust coefficient\n",
    "                 k_m = 0.1, # value of the angular torque coefficient\n",
    "                 m = 0.5,   # mass of the vehicle \n",
    "                 i_z = 0.2, # moment of inertia around the z-axis\n",
    "                ):\n",
    "        \n",
    "        self.k_f = k_f\n",
    "        self.k_m = k_m\n",
    "        self.m = m\n",
    "        self.i_z = i_z\n",
    "        \n",
    "        self.omega_1 = 0.0\n",
    "        self.omega_2 = 0.0\n",
    "        self.g = 9.81\n",
    "    \n",
    "    @property\n",
    "    def z_dot_dot(self):\n",
    "        \"\"\"Calculates current vertical acceleration.\"\"\"\n",
    "        \n",
    "        # TODO: \n",
    "        # 1. Calculate the lift force generated by the first \n",
    "        #    and second propellers \n",
    "        # 2. Calculate the total vertical force acting on the drone \n",
    "        # 3. Calculate the vertical acceleration due to the \n",
    "        #    total force acting on the drone keep in mind that the \n",
    "        #    z-axis is directed downward \n",
    "\n",
    "        return acceleration\n",
    "    \n",
    "    @property\n",
    "    def psi_dot_dot(self): \n",
    "        \"\"\"Calculates current rotational acceleration.\"\"\"\n",
    "        \n",
    "        # TODO: \n",
    "        # 1. Calculate the torques generated by both propellers \n",
    "        # 2. Calculate the angular acceleration \n",
    "\n",
    "        return angular_acc\n",
    "    \n",
    "    def set_rotors_angular_velocities(self, linear_acc, angular_acc): \n",
    "        \"\"\"\n",
    "        Sets the turn rates for the rotors so that the drone\n",
    "        achieves the desired linear_acc and angular_acc.\n",
    "        \"\"\"\n",
    "        \n",
    "        # TODO \n",
    "        # 1. Calculate the correct values of omega_1 and omega_2\n",
    "        # 2. Set self.omega_1 and self.omega_2 to those values\n",
    "        # 3. Don't forget to return omega_1, omega_2\n",
    "        # Reminder: The second propeller rotates counterclockwise \n",
    "        # thus the angular velocity needs to be positive, \n",
    "        # while angular velocity of the first propeller needs to be \n",
    "        # negative as it rotates clockwise.\n",
    "\n",
    "        return self.omega_1, self.omega_2"
   ]
  },
  {
   "cell_type": "code",
   "execution_count": null,
   "metadata": {},
   "outputs": [],
   "source": [
    "# TEST CODE 1\n",
    "\n",
    "bi = CoaxialCopter()\n",
    "stable_omega_1,stable_omega_2 = bi.set_rotors_angular_velocities(0.0, 0.0)\n",
    "\n",
    "print('Drone achieves stable hover with angular velocity of %5.2f' % stable_omega_1, \n",
    "      'for the first propeller and %5.2f' % stable_omega_2, \n",
    "      'for the second propeller.')\n",
    "\n",
    "Answers.angular_velocities(bi.m, bi.g, bi.i_z, bi.k_f, bi.k_m, 0.0, 0.0, stable_omega_1, stable_omega_2)"
   ]
  },
  {
   "cell_type": "code",
   "execution_count": null,
   "metadata": {},
   "outputs": [],
   "source": [
    "# TEST CODE 2 - Checking the linear acceleration value\n",
    "\n",
    "bi.omega_1 = stable_omega_1 * math.sqrt(1.1)\n",
    "bi.omega_2 = stable_omega_2 * math.sqrt(1.1)\n",
    "\n",
    "vertical_acceleration = bi.z_dot_dot\n",
    "print('Increase by %5.2f' % math.sqrt(1.1),\n",
    "      'of the propeller angular velocity will result in',\n",
    "      '%5.2f' % vertical_acceleration, \n",
    "      'm/(s*s) vertical acceleration.' )\n",
    "\n",
    "Answers.linear_acceleration(bi.m, bi.g, bi.k_f, bi.omega_1, bi.omega_2, vertical_acceleration)"
   ]
  },
  {
   "cell_type": "code",
   "execution_count": null,
   "metadata": {},
   "outputs": [],
   "source": [
    "# TEST CODE 3 - checking the angular acceleration\n",
    "bi.omega_1 = stable_omega_1 * math.sqrt(1.1)\n",
    "bi.omega_2 = stable_omega_2 * math.sqrt(0.9)\n",
    "\n",
    "ang_acceleration = bi.psi_dot_dot\n",
    "print('Increase in %5.2f'%math.sqrt(1.1),' of the angular velocity for the first propellr and',\n",
    "      ' decrease of the angular velocity of the second propellr by %f.2f'%math.sqrt(0.9),' will result in',\n",
    "      '%5.2f'%ang_acceleration, 'rad/(s*s) angular acceleration.' )\n",
    "\n",
    "Answers.angular_acceleration(bi.i_z, bi.k_m, bi.omega_1, bi.omega_2, ang_acceleration)"
   ]
  },
  {
   "cell_type": "markdown",
   "metadata": {},
   "source": [
    "[Solution](/notebooks/1.%20Coaxial%20Drone%20Dynamics%20SOLUTION.ipynb)"
   ]
  },
  {
   "cell_type": "code",
   "execution_count": null,
   "metadata": {},
   "outputs": [],
   "source": []
  }
 ],
 "metadata": {
  "kernelspec": {
   "display_name": "Python 3",
   "language": "python",
   "name": "python3"
  },
  "language_info": {
   "codemirror_mode": {
    "name": "ipython",
    "version": 3
   },
   "file_extension": ".py",
   "mimetype": "text/x-python",
   "name": "python",
   "nbconvert_exporter": "python",
   "pygments_lexer": "ipython3",
   "version": "3.6.3"
  }
 },
 "nbformat": 4,
 "nbformat_minor": 2
}
