{
 "cells": [
  {
   "cell_type": "code",
   "execution_count": null,
   "metadata": {},
   "outputs": [],
   "source": [
    "%matplotlib inline \n",
    "%config InlineBackend.figure_format = 'retina'\n",
    "\n",
    "%load_ext autoreload\n",
    "%autoreload 2\n",
    "\n",
    "import numpy as np \n",
    "import matplotlib.pyplot as plt\n",
    "import matplotlib.pylab as pylab\n",
    "from simplified_monorotor import Monorotor\n",
    "import plotting\n",
    "import testing\n",
    "import trajectories\n",
    "\n",
    "pylab.rcParams['figure.figsize'] = 10,10"
   ]
  },
  {
   "cell_type": "markdown",
   "metadata": {},
   "source": [
    "# PD controller \n",
    "\n",
    "#### TODO 1 - Implement PD controller\n",
    "\n",
    "Implement the PD Controller math in `thrust_control`:\n",
    "\n",
    "$$\n",
    "\\begin{align}\n",
    "e &= z_{\\text{target}} - z_{\\text{actual}} \\\\\n",
    "\\dot{e} &= \\dot{z}_{\\text{target}} - \\dot{z}_{\\text{actual}} \\\\\n",
    "\\bar{u}_1 &= k_p e + k_d \\dot{e} \\\\\n",
    "u_1 &= m(g - \\bar{u}_1)\n",
    "\\end{align}\n",
    "$$"
   ]
  },
  {
   "cell_type": "code",
   "execution_count": null,
   "metadata": {},
   "outputs": [],
   "source": [
    "class PDController:\n",
    "    \n",
    "    def __init__(self, k_p, k_d, m):\n",
    "        self.k_p = k_p\n",
    "        self.k_d = k_d\n",
    "        self.vehicle_mass = m\n",
    "        self.g = 9.81\n",
    "    \n",
    "    def thrust_control(self,\n",
    "                z_target, \n",
    "                z_actual, \n",
    "                z_dot_target, \n",
    "                z_dot_actual,\n",
    "                z_dot_dot_ff=0.0): # IGNORE this for now.\n",
    "        \n",
    "        err = z_target - z_actual\n",
    "        err_dot = z_dot_target - z_dot_actual\n",
    "        \n",
    "        p_term_thrust = self.k_p * err\n",
    "        d_term_thrust = self.k_d * err_dot\n",
    "        \n",
    "        u_bar = p_term_thrust + d_term_thrust \n",
    "        u = self.vehicle_mass * (self.g - u_bar)\n",
    "        \n",
    "        return u\n",
    "testing.pd_controller_test(PDController, feed_forward=False)"
   ]
  },
  {
   "cell_type": "markdown",
   "metadata": {},
   "source": [
    "#### TODO 2 - Adjust parameters\n",
    "\n",
    "Start by running the code below with K_D = 0.0. This will remind you what a P-controlled trajectory looks like. Then try slowly increasing K_D to 0.5, 1.0, 2.0, etc... \n",
    "\n",
    "What value of K_D gives a reasonable trajectory?\n",
    "\n",
    "Is there a problem with setting K_D too high? "
   ]
  },
  {
   "cell_type": "code",
   "execution_count": null,
   "metadata": {},
   "outputs": [],
   "source": [
    "MASS_ERROR = 1.5\n",
    "K_P = 20.0\n",
    "K_D = 0.0\n",
    "\n",
    "# preparation\n",
    "drone = Monorotor()\n",
    "perceived_mass = drone.m * MASS_ERROR\n",
    "controller = PDController(K_P, K_D, perceived_mass)\n",
    "\n",
    "# generate trajectory\n",
    "total_time = 3.0\n",
    "dt = 0.001\n",
    "t=np.linspace(0.0,total_time,int(total_time/dt))\n",
    "z_path= -np.ones(t.shape[0])\n",
    "z_dot_path = np.zeros(t.shape[0])\n",
    "\n",
    "# run simulation\n",
    "history = []\n",
    "for z_target, z_dot_target in zip(z_path, z_dot_path):\n",
    "    z_actual = drone.z\n",
    "    z_dot_actual = drone.z_dot\n",
    "    u = controller.thrust_control(z_target, z_actual, \n",
    "                                  z_dot_target, z_dot_actual)\n",
    "    drone.thrust = u\n",
    "    drone.advance_state(dt)\n",
    "    history.append(drone.X)\n",
    "    \n",
    "# generate plots\n",
    "z_actual = [h[0] for h in history]\n",
    "plotting.compare_planned_to_actual(z_actual, z_path, t)    "
   ]
  }
 ],
 "metadata": {
  "kernelspec": {
   "display_name": "Python 3",
   "language": "python",
   "name": "python3"
  },
  "language_info": {
   "codemirror_mode": {
    "name": "ipython",
    "version": 3
   },
   "file_extension": ".py",
   "mimetype": "text/x-python",
   "name": "python",
   "nbconvert_exporter": "python",
   "pygments_lexer": "ipython3",
   "version": "3.6.3"
  }
 },
 "nbformat": 4,
 "nbformat_minor": 2
}
